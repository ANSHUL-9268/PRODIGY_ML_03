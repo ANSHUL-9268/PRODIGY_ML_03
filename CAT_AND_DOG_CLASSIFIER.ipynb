{
  "nbformat": 4,
  "nbformat_minor": 0,
  "metadata": {
    "colab": {
      "provenance": [],
      "authorship_tag": "ABX9TyMvZHuHJzZJL6ThjPEkRD1x",
      "include_colab_link": true
    },
    "kernelspec": {
      "name": "python3",
      "display_name": "Python 3"
    },
    "language_info": {
      "name": "python"
    }
  },
  "cells": [
    {
      "cell_type": "markdown",
      "metadata": {
        "id": "view-in-github",
        "colab_type": "text"
      },
      "source": [
        "<a href=\"https://colab.research.google.com/github/ANSHUL-9268/PRODIGY_ML_03/blob/main/CAT_AND_DOG_CLASSIFIER.ipynb\" target=\"_parent\"><img src=\"https://colab.research.google.com/assets/colab-badge.svg\" alt=\"Open In Colab\"/></a>"
      ]
    },
    {
      "cell_type": "code",
      "source": [
        "import os\n",
        "import numpy as np\n",
        "import matplotlib.pyplot as plt\n",
        "from sklearn.svm import SVC\n",
        "from sklearn.metrics import accuracy_score\n",
        "from tensorflow.keras.applications.vgg16 import VGG16, preprocess_input\n",
        "from tensorflow.keras.preprocessing.image import load_img, img_to_array\n",
        "from sklearn.model_selection import train_test_split\n",
        "import pickle\n",
        "\n",
        "image_size = (224, 224)\n",
        "train_dir = '/content/sample_data/dogs_and_cats'\n",
        "model_filename = 'svm_model.pkl'\n",
        "\n",
        "# Check for existing model\n",
        "if os.path.exists(model_filename):\n",
        "    # Load model\n",
        "    with open(model_filename, 'rb') as f:\n",
        "        clf = pickle.load(f)\n",
        "    # Load pre-trained VGG16 model for feature extraction\n",
        "    model = VGG16(weights='imagenet', include_top=False, input_shape=image_size + (3,))\n",
        "else:\n",
        "    # Load pre-trained VGG16 model\n",
        "    model = VGG16(weights='imagenet', include_top=False, input_shape=image_size + (3,))\n",
        "\n",
        "    # Extract features\n",
        "    X, y = extract_features(train_dir)\n",
        "    X_train, X_test, y_train, y_test = train_test_split(X, y, test_size=0.2, random_state=42)\n",
        "\n",
        "    # Train SVM\n",
        "    clf = SVC(kernel='linear', C=1.0, random_state=42)\n",
        "    clf.fit(X_train, y_train)\n",
        "\n",
        "    # Save model\n",
        "    with open(model_filename, 'wb') as f:\n",
        "        pickle.dump(clf, f)\n",
        "\n",
        "\n",
        "# Function to extract features\n",
        "def extract_features(directory, sample_count=None):\n",
        "    features = []\n",
        "    labels = []\n",
        "    for category in ['cats', 'dogs']:\n",
        "        path = os.path.join(directory, category)\n",
        "        for i, filename in enumerate(os.listdir(path)):\n",
        "            if filename.endswith('.jpg') or filename.endswith('.png'):\n",
        "                img_path = os.path.join(path, filename)\n",
        "                img = load_img(img_path, target_size=image_size)\n",
        "                img_data = img_to_array(img)\n",
        "                img_data = np.expand_dims(img_data, axis=0)\n",
        "                img_data = preprocess_input(img_data)\n",
        "                feature = model.predict(img_data)\n",
        "                features.append(feature.flatten())\n",
        "                labels.append(1 if category == 'dogs' else 0)\n",
        "            if sample_count and (i + 1) >= sample_count:\n",
        "                break\n",
        "    return np.array(features), np.array(labels)\n",
        "\n",
        "# Function to Classify an Image\n",
        "def classify_image(image_path, model, clf):\n",
        "    img = load_img(image_path, target_size=image_size)\n",
        "    img_data = img_to_array(img)\n",
        "    img_data = np.expand_dims(img_data, axis=0)\n",
        "    img_data = preprocess_input(img_data)\n",
        "    features = model.predict(img_data)\n",
        "    features = features.reshape(1, -1)  # Reshape features here\n",
        "    prediction = clf.predict(features)[0]\n",
        "    return \"dog\" if prediction == 1 else \"cat\"\n",
        "\n",
        "# Example Usage: Replace with the path to your image\n",
        "image_path = '/content/sample_data/dogs_and_cats/dogs/dog.1.jpg'\n",
        "result = classify_image(image_path, model, clf)\n",
        "print(f\"The image is of a {result}\")\n"
      ],
      "metadata": {
        "colab": {
          "base_uri": "https://localhost:8080/"
        },
        "id": "WdxW0gkvn35D",
        "outputId": "8c477ca9-1bf8-4da5-9554-83e62e463711"
      },
      "execution_count": 6,
      "outputs": [
        {
          "output_type": "stream",
          "name": "stdout",
          "text": [
            "1/1 [==============================] - 1s 1s/step\n",
            "The image is of a dog\n"
          ]
        }
      ]
    },
    {
      "cell_type": "code",
      "source": [
        "image_path = '/content/sample_data/dogs_and_cats/cats/cat.12.jpg'\n",
        "result = classify_image(image_path, model, clf)\n",
        "print(f\"The image is of a {result}\")"
      ],
      "metadata": {
        "colab": {
          "base_uri": "https://localhost:8080/"
        },
        "id": "RLvqKUs8po4k",
        "outputId": "575d3a95-1edd-43c0-f292-c40007833572"
      },
      "execution_count": 9,
      "outputs": [
        {
          "output_type": "stream",
          "name": "stdout",
          "text": [
            "1/1 [==============================] - 0s 479ms/step\n",
            "The image is of a cat\n"
          ]
        }
      ]
    },
    {
      "cell_type": "code",
      "source": [
        "image_path = '/content/sample_data/dogs_and_cats/dogs/dog.16.jpg'\n",
        "result = classify_image(image_path, model, clf)\n",
        "print(f\"The image is of a {result}\")"
      ],
      "metadata": {
        "colab": {
          "base_uri": "https://localhost:8080/"
        },
        "id": "HZXhtLUJqmS7",
        "outputId": "ff51887b-654b-4bb2-d545-a3f6b09c32f9"
      },
      "execution_count": 10,
      "outputs": [
        {
          "output_type": "stream",
          "name": "stdout",
          "text": [
            "1/1 [==============================] - 0s 465ms/step\n",
            "The image is of a dog\n"
          ]
        }
      ]
    }
  ]
}